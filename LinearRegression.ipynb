{
  "nbformat": 4,
  "nbformat_minor": 0,
  "metadata": {
    "colab": {
      "name": "LinearRegression.ipynb",
      "version": "0.3.2",
      "provenance": [],
      "collapsed_sections": []
    },
    "kernelspec": {
      "name": "python3",
      "display_name": "Python 3"
    },
    "accelerator": "GPU"
  },
  "cells": [
    {
      "cell_type": "markdown",
      "metadata": {
        "id": "view-in-github",
        "colab_type": "text"
      },
      "source": [
        "[View in Colaboratory](https://colab.research.google.com/github/tshahpuri/PyTorch/blob/master/LinearRegression.ipynb)"
      ]
    },
    {
      "metadata": {
        "id": "Yxe6toAqHwAc",
        "colab_type": "text"
      },
      "cell_type": "markdown",
      "source": [
        "Importing Libraries"
      ]
    },
    {
      "metadata": {
        "id": "fO1BkbHqFBbF",
        "colab_type": "code",
        "colab": {}
      },
      "cell_type": "code",
      "source": [
        "import torch\n",
        "import torch.nn as nn\n",
        "import torch.autograd\n",
        "\n",
        "import numpy as np"
      ],
      "execution_count": 0,
      "outputs": []
    },
    {
      "metadata": {
        "id": "b2AiJS9nH3Ci",
        "colab_type": "text"
      },
      "cell_type": "markdown",
      "source": [
        "**True Linear Equation y = 2x + 1 **\n",
        "\n",
        "---"
      ]
    },
    {
      "metadata": {
        "id": "tTP5rEHBJEa0",
        "colab_type": "text"
      },
      "cell_type": "markdown",
      "source": [
        "Creating X values for training"
      ]
    },
    {
      "metadata": {
        "id": "_R9rvw05H2eb",
        "colab_type": "code",
        "colab": {}
      },
      "cell_type": "code",
      "source": [
        "x_values = [i for i in range(11)]\n",
        "x_train = np.array(x_values).reshape(-1,1)"
      ],
      "execution_count": 0,
      "outputs": []
    },
    {
      "metadata": {
        "id": "XERbYpcyJMW3",
        "colab_type": "text"
      },
      "cell_type": "markdown",
      "source": [
        "Creating y values for training"
      ]
    },
    {
      "metadata": {
        "id": "RolMB8BBJKey",
        "colab_type": "code",
        "colab": {}
      },
      "cell_type": "code",
      "source": [
        "y_values = [2*i + 1 for i in x_values]\n",
        "y_train = np.array(y_values).reshape(-1,1)"
      ],
      "execution_count": 0,
      "outputs": []
    },
    {
      "metadata": {
        "id": "ASD1nNTTK2v9",
        "colab_type": "text"
      },
      "cell_type": "markdown",
      "source": [
        "---\n",
        "Creating the model class\n"
      ]
    },
    {
      "metadata": {
        "id": "h6lLqhRuK-u0",
        "colab_type": "code",
        "colab": {}
      },
      "cell_type": "code",
      "source": [
        "class LinearRegression(nn.Module):\n",
        "  \n",
        "  def __init__(self, input_dim, output_dim):\n",
        "    super(LinearRegression, self).__init__()\n",
        "    self.linear = nn.Linear(input_dim, output_dim)\n",
        "   \n",
        "  def forward(self):\n",
        "    return self.linear()"
      ],
      "execution_count": 0,
      "outputs": []
    },
    {
      "metadata": {
        "id": "e0YpfrAcOwUK",
        "colab_type": "text"
      },
      "cell_type": "markdown",
      "source": [
        "Initiating the model"
      ]
    },
    {
      "metadata": {
        "id": "bQB0I1AQPFDL",
        "colab_type": "code",
        "colab": {}
      },
      "cell_type": "code",
      "source": [
        "input_dim = 1\n",
        "output_dim = 1\n",
        "\n",
        "model = LinearRegression(input_dim, output_dim)"
      ],
      "execution_count": 0,
      "outputs": []
    },
    {
      "metadata": {
        "id": "MI-6XhkYPhYs",
        "colab_type": "text"
      },
      "cell_type": "markdown",
      "source": [
        ""
      ]
    },
    {
      "metadata": {
        "id": "ZmtceE1mPhDO",
        "colab_type": "code",
        "colab": {}
      },
      "cell_type": "code",
      "source": [
        ""
      ],
      "execution_count": 0,
      "outputs": []
    }
  ]
}
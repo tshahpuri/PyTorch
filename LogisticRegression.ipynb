{
  "nbformat": 4,
  "nbformat_minor": 0,
  "metadata": {
    "colab": {
      "name": "LogisticRegression.ipynb",
      "version": "0.3.2",
      "provenance": []
    },
    "kernelspec": {
      "name": "python3",
      "display_name": "Python 3"
    },
    "accelerator": "GPU"
  },
  "cells": [
    {
      "cell_type": "markdown",
      "metadata": {
        "id": "view-in-github",
        "colab_type": "text"
      },
      "source": [
        "[View in Colaboratory](https://colab.research.google.com/github/tshahpuri/PyTorch/blob/master/LogisticRegression.ipynb)"
      ]
    },
    {
      "metadata": {
        "id": "K2J8HwNTqYS-",
        "colab_type": "code",
        "colab": {}
      },
      "cell_type": "code",
      "source": [
        "import torch\n",
        "import torch.nn as nn\n",
        "import torchvision.transforms as transforms\n",
        "import torchvision.datasets as dsets\n",
        "from torch.autograd import Variable"
      ],
      "execution_count": 0,
      "outputs": []
    },
    {
      "metadata": {
        "id": "Zqhyr26hh0MB",
        "colab_type": "code",
        "colab": {}
      },
      "cell_type": "code",
      "source": [
        "train_dataset = dsets.MNIST(root = './data',\n",
        "                            train = True,\n",
        "                            transform = transforms.ToTensor(),\n",
        "                            download = True)\n"
      ],
      "execution_count": 0,
      "outputs": []
    },
    {
      "metadata": {
        "id": "vAPQd4AXyxCx",
        "colab_type": "code",
        "colab": {}
      },
      "cell_type": "code",
      "source": [
        "test_dataset = dsets.MNIST(root = './data',\n",
        "                            train = False,\n",
        "                            transform = transforms.ToTensor(),\n",
        "                            download = True)"
      ],
      "execution_count": 0,
      "outputs": []
    },
    {
      "metadata": {
        "id": "XUUp-618uAwy",
        "colab_type": "text"
      },
      "cell_type": "markdown",
      "source": [
        " **Step 2:  1. Total data, minibatch, interations, epoch 2. Make the dataset iterable**"
      ]
    },
    {
      "metadata": {
        "id": "ndRi7VHVuQ5s",
        "colab_type": "code",
        "colab": {}
      },
      "cell_type": "code",
      "source": [
        "batch_size = 100\n",
        "n_iters = 3000\n",
        "total_data = len(train_dataset)"
      ],
      "execution_count": 0,
      "outputs": []
    },
    {
      "metadata": {
        "id": "chNKaFM6uenX",
        "colab_type": "code",
        "colab": {}
      },
      "cell_type": "code",
      "source": [
        "num_epochs = n_iters/(total_data/batch_size)"
      ],
      "execution_count": 0,
      "outputs": []
    },
    {
      "metadata": {
        "id": "z848sfHDuq2B",
        "colab_type": "code",
        "colab": {}
      },
      "cell_type": "code",
      "source": [
        "train_loader = torch.utils.data.DataLoader(dataset = train_dataset,\n",
        "                                            batch_size = batch_size,\n",
        "                                            shuffle = True)"
      ],
      "execution_count": 0,
      "outputs": []
    },
    {
      "metadata": {
        "id": "hBJ0MuD8yqIo",
        "colab_type": "code",
        "colab": {}
      },
      "cell_type": "code",
      "source": [
        "test_loader = torch.utils.data.DataLoader(dataset = test_dataset,\n",
        "                                          batch_size = batch_size,\n",
        "                                          shuffle = True)"
      ],
      "execution_count": 0,
      "outputs": []
    },
    {
      "metadata": {
        "id": "bxnFBKTazOlW",
        "colab_type": "text"
      },
      "cell_type": "markdown",
      "source": [
        "**Step 3: Building the model**"
      ]
    },
    {
      "metadata": {
        "id": "9gW1BU4ZzOy4",
        "colab_type": "code",
        "colab": {}
      },
      "cell_type": "code",
      "source": [
        "class LogisticRegressionModel(nn.Module):\n",
        "  def __init__(self, input_dim, output_dim):\n",
        "      super(LogisticRegressionModel, self).__init__()\n",
        "      self.linear = nn.Linear(input_dim, output_dim)\n",
        "  \n",
        "  def forward(self, x):\n",
        "    out = self.linear(x)\n",
        "    return out"
      ],
      "execution_count": 0,
      "outputs": []
    },
    {
      "metadata": {
        "id": "5yv16R3l0Vbi",
        "colab_type": "text"
      },
      "cell_type": "markdown",
      "source": [
        "**Step 4: Instantiate Model Class: 1. Input dim, output dim**"
      ]
    },
    {
      "metadata": {
        "id": "Wya16RbI0RYf",
        "colab_type": "code",
        "colab": {}
      },
      "cell_type": "code",
      "source": [
        "input_dim = 28*28\n",
        "output_dim = 10\n",
        "model = LogisticRegressionModel(input_dim, output_dim)"
      ],
      "execution_count": 0,
      "outputs": []
    },
    {
      "metadata": {
        "id": "BobgDFAP0zD3",
        "colab_type": "text"
      },
      "cell_type": "markdown",
      "source": [
        "**Step 5: Instantiate Loss Class: Logistic Regression -> Cross Entropy Loss**"
      ]
    },
    {
      "metadata": {
        "id": "4Iv4aeBU1BAh",
        "colab_type": "code",
        "colab": {}
      },
      "cell_type": "code",
      "source": [
        "loss_function = nn.CrossEntropyLoss()"
      ],
      "execution_count": 0,
      "outputs": []
    },
    {
      "metadata": {
        "id": "SgaTZ1dR1KnU",
        "colab_type": "text"
      },
      "cell_type": "markdown",
      "source": [
        "**Step 6: Instantiate Optimizer Class: learning rate**"
      ]
    },
    {
      "metadata": {
        "id": "5ev5dTNu1txo",
        "colab_type": "code",
        "colab": {}
      },
      "cell_type": "code",
      "source": [
        "learning_rate = 0.001\n",
        "optimizer = torch.optim.SGD(model.parameters(), lr = learning_rate)"
      ],
      "execution_count": 0,
      "outputs": []
    },
    {
      "metadata": {
        "id": "Zuqnedi6A2cl",
        "colab_type": "text"
      },
      "cell_type": "markdown",
      "source": [
        "**Step 7: 1. Convert input/labels to Variables 2. Clear gradient buffers 3. Get output given inputs 4. Get Loss 5. Get gradients w.r.t parameters 6. Update parameters using gradients 7. Repeat**"
      ]
    },
    {
      "metadata": {
        "id": "ViXuwRxeAHw-",
        "colab_type": "code",
        "colab": {
          "base_uri": "https://localhost:8080/",
          "height": 34
        },
        "outputId": "8ad4cb0a-c9ca-4b00-b835-de161c3caca6"
      },
      "cell_type": "code",
      "source": [
        "iter = 0\n",
        "\n",
        "for epoch in range(num_epochs):\n",
        "    for i, (images, labels) enumerate (train_loader):\n",
        "        images = Variable(image.view(-1,28*28)) \n",
        "        labels = Variable(labels)\n",
        "        \n",
        "        optimizer.zero_grad()\n",
        "        \n",
        "        outputs = model(images)\n",
        "        \n",
        "        loss = criterion(outputs, labels)\n",
        "        \n",
        "        loss.backward()\n",
        "        \n",
        "        optimizer.step()\n",
        "        \n",
        "        iter += 1\n",
        "        \n",
        "        if (iter%500):\n",
        "          \n",
        "          correct = 0\n",
        "          total = 0\n",
        "          \n",
        "          for images,labels in test_loader:\n",
        "            images = Variable(image.view(-1,28*28))\n",
        "            labels = Variable(labels)\n",
        "            \n",
        "            outputs = model(images)\n",
        "            \n",
        "            _, predictions = torch.max(outputs, 1)\n",
        "            \n",
        "            total += labels\n",
        "            \n",
        "            correct += (predictions == labels).sum()\n",
        "          \n",
        "          accuracy = 100 * (correct/total)"
      ],
      "execution_count": 95,
      "outputs": [
        {
          "output_type": "stream",
          "text": [
            "2\n"
          ],
          "name": "stdout"
        }
      ]
    },
    {
      "metadata": {
        "id": "vlf_qCjnBV1u",
        "colab_type": "code",
        "colab": {
          "base_uri": "https://localhost:8080/",
          "height": 34
        },
        "outputId": "c8027c56-c053-4f82-9cc3-27d9d649ac45"
      },
      "cell_type": "code",
      "source": [
        ""
      ],
      "execution_count": 104,
      "outputs": [
        {
          "output_type": "stream",
          "text": [
            "h\n"
          ],
          "name": "stdout"
        }
      ]
    }
  ]
}